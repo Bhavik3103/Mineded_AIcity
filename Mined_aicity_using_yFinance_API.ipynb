{
  "nbformat": 4,
  "nbformat_minor": 0,
  "metadata": {
    "colab": {
      "provenance": []
    },
    "kernelspec": {
      "name": "python3",
      "display_name": "Python 3"
    },
    "language_info": {
      "name": "python"
    }
  },
  "cells": [
    {
      "cell_type": "code",
      "source": [
        "!pip install yfinance"
      ],
      "metadata": {
        "colab": {
          "base_uri": "https://localhost:8080/"
        },
        "id": "g4khjtVfy5Sp",
        "outputId": "63e52c00-d242-4955-a9b1-46604619f274"
      },
      "execution_count": 83,
      "outputs": [
        {
          "output_type": "stream",
          "name": "stdout",
          "text": [
            "Looking in indexes: https://pypi.org/simple, https://us-python.pkg.dev/colab-wheels/public/simple/\n",
            "Requirement already satisfied: yfinance in /usr/local/lib/python3.8/dist-packages (0.2.12)\n",
            "Requirement already satisfied: pytz>=2022.5 in /usr/local/lib/python3.8/dist-packages (from yfinance) (2022.7.1)\n",
            "Requirement already satisfied: cryptography>=3.3.2 in /usr/local/lib/python3.8/dist-packages (from yfinance) (39.0.2)\n",
            "Requirement already satisfied: frozendict>=2.3.4 in /usr/local/lib/python3.8/dist-packages (from yfinance) (2.3.5)\n",
            "Requirement already satisfied: numpy>=1.16.5 in /usr/local/lib/python3.8/dist-packages (from yfinance) (1.22.4)\n",
            "Requirement already satisfied: html5lib>=1.1 in /usr/local/lib/python3.8/dist-packages (from yfinance) (1.1)\n",
            "Requirement already satisfied: lxml>=4.9.1 in /usr/local/lib/python3.8/dist-packages (from yfinance) (4.9.2)\n",
            "Requirement already satisfied: beautifulsoup4>=4.11.1 in /usr/local/lib/python3.8/dist-packages (from yfinance) (4.11.2)\n",
            "Requirement already satisfied: requests>=2.26 in /usr/local/lib/python3.8/dist-packages (from yfinance) (2.28.2)\n",
            "Requirement already satisfied: appdirs>=1.4.4 in /usr/local/lib/python3.8/dist-packages (from yfinance) (1.4.4)\n",
            "Requirement already satisfied: multitasking>=0.0.7 in /usr/local/lib/python3.8/dist-packages (from yfinance) (0.0.11)\n",
            "Requirement already satisfied: pandas>=1.3.0 in /usr/local/lib/python3.8/dist-packages (from yfinance) (1.3.5)\n",
            "Requirement already satisfied: soupsieve>1.2 in /usr/local/lib/python3.8/dist-packages (from beautifulsoup4>=4.11.1->yfinance) (2.4)\n",
            "Requirement already satisfied: cffi>=1.12 in /usr/local/lib/python3.8/dist-packages (from cryptography>=3.3.2->yfinance) (1.15.1)\n",
            "Requirement already satisfied: six>=1.9 in /usr/local/lib/python3.8/dist-packages (from html5lib>=1.1->yfinance) (1.15.0)\n",
            "Requirement already satisfied: webencodings in /usr/local/lib/python3.8/dist-packages (from html5lib>=1.1->yfinance) (0.5.1)\n",
            "Requirement already satisfied: python-dateutil>=2.7.3 in /usr/local/lib/python3.8/dist-packages (from pandas>=1.3.0->yfinance) (2.8.2)\n",
            "Requirement already satisfied: idna<4,>=2.5 in /usr/local/lib/python3.8/dist-packages (from requests>=2.26->yfinance) (2.10)\n",
            "Requirement already satisfied: charset-normalizer<4,>=2 in /usr/local/lib/python3.8/dist-packages (from requests>=2.26->yfinance) (3.0.1)\n",
            "Requirement already satisfied: certifi>=2017.4.17 in /usr/local/lib/python3.8/dist-packages (from requests>=2.26->yfinance) (2022.12.7)\n",
            "Requirement already satisfied: urllib3<1.27,>=1.21.1 in /usr/local/lib/python3.8/dist-packages (from requests>=2.26->yfinance) (1.26.14)\n",
            "Requirement already satisfied: pycparser in /usr/local/lib/python3.8/dist-packages (from cffi>=1.12->cryptography>=3.3.2->yfinance) (2.21)\n"
          ]
        }
      ]
    },
    {
      "cell_type": "code",
      "source": [
        "import yfinance as yf\n",
        "import pandas as pd\n",
        "import numpy as np\n",
        "import warnings\n",
        "from sklearn.metrics import mean_squared_error\n",
        "import matplotlib.pyplot as plt\n",
        "from statsmodels.tsa.arima.model import ARIMA\n",
        "\n",
        "forex_data = yf.download('USDINR=X', start='2018-01-01', end='2022-05-31')\n",
        "\n",
        "# Set the index to a datetime object\n",
        "forex_data.index = pd.to_datetime(forex_data.index)\n",
        "\n",
        "# Display the last five rows\n",
        "# forex_data\n",
        "\n",
        "mask=forex_data.isnull()\n",
        "# print(mask)\n",
        "forex_data[mask]=np.nan\n",
        "forex_data=forex_data.fillna(method='bfill')\n",
        "forex_data=forex_data.drop(['Open','High','Low','Adj Close','Volume'],axis=1)\n",
        "\n",
        "test=yf.download('USDINR=X', start='2022-06-01', end='2022-12-31')\n",
        "# test\n",
        "mask=test.isnull()\n",
        "test[mask]=np.nan\n",
        "test=test.fillna(method='bfill')\n",
        "test=test.drop(['Open','High','Low','Adj Close','Volume'],axis=1)\n",
        "test\n",
        "\n",
        "\n"
      ],
      "metadata": {
        "colab": {
          "base_uri": "https://localhost:8080/",
          "height": 489
        },
        "id": "FDc61yLjzskI",
        "outputId": "a011fca1-80a1-4454-a107-a006b4ba7275"
      },
      "execution_count": 84,
      "outputs": [
        {
          "output_type": "stream",
          "name": "stdout",
          "text": [
            "[*********************100%***********************]  1 of 1 completed\n",
            "[*********************100%***********************]  1 of 1 completed\n"
          ]
        },
        {
          "output_type": "execute_result",
          "data": {
            "text/plain": [
              "                Close\n",
              "Date                 \n",
              "2022-06-01  77.598999\n",
              "2022-06-02  77.584099\n",
              "2022-06-03  77.360497\n",
              "2022-06-06  77.694199\n",
              "2022-06-07  77.820999\n",
              "...               ...\n",
              "2022-12-26  82.604103\n",
              "2022-12-27  82.902901\n",
              "2022-12-28  82.776100\n",
              "2022-12-29  82.851997\n",
              "2022-12-30  82.835098\n",
              "\n",
              "[153 rows x 1 columns]"
            ],
            "text/html": [
              "\n",
              "  <div id=\"df-b426f81b-ae03-4f69-a5cd-140dff7ae536\">\n",
              "    <div class=\"colab-df-container\">\n",
              "      <div>\n",
              "<style scoped>\n",
              "    .dataframe tbody tr th:only-of-type {\n",
              "        vertical-align: middle;\n",
              "    }\n",
              "\n",
              "    .dataframe tbody tr th {\n",
              "        vertical-align: top;\n",
              "    }\n",
              "\n",
              "    .dataframe thead th {\n",
              "        text-align: right;\n",
              "    }\n",
              "</style>\n",
              "<table border=\"1\" class=\"dataframe\">\n",
              "  <thead>\n",
              "    <tr style=\"text-align: right;\">\n",
              "      <th></th>\n",
              "      <th>Close</th>\n",
              "    </tr>\n",
              "    <tr>\n",
              "      <th>Date</th>\n",
              "      <th></th>\n",
              "    </tr>\n",
              "  </thead>\n",
              "  <tbody>\n",
              "    <tr>\n",
              "      <th>2022-06-01</th>\n",
              "      <td>77.598999</td>\n",
              "    </tr>\n",
              "    <tr>\n",
              "      <th>2022-06-02</th>\n",
              "      <td>77.584099</td>\n",
              "    </tr>\n",
              "    <tr>\n",
              "      <th>2022-06-03</th>\n",
              "      <td>77.360497</td>\n",
              "    </tr>\n",
              "    <tr>\n",
              "      <th>2022-06-06</th>\n",
              "      <td>77.694199</td>\n",
              "    </tr>\n",
              "    <tr>\n",
              "      <th>2022-06-07</th>\n",
              "      <td>77.820999</td>\n",
              "    </tr>\n",
              "    <tr>\n",
              "      <th>...</th>\n",
              "      <td>...</td>\n",
              "    </tr>\n",
              "    <tr>\n",
              "      <th>2022-12-26</th>\n",
              "      <td>82.604103</td>\n",
              "    </tr>\n",
              "    <tr>\n",
              "      <th>2022-12-27</th>\n",
              "      <td>82.902901</td>\n",
              "    </tr>\n",
              "    <tr>\n",
              "      <th>2022-12-28</th>\n",
              "      <td>82.776100</td>\n",
              "    </tr>\n",
              "    <tr>\n",
              "      <th>2022-12-29</th>\n",
              "      <td>82.851997</td>\n",
              "    </tr>\n",
              "    <tr>\n",
              "      <th>2022-12-30</th>\n",
              "      <td>82.835098</td>\n",
              "    </tr>\n",
              "  </tbody>\n",
              "</table>\n",
              "<p>153 rows × 1 columns</p>\n",
              "</div>\n",
              "      <button class=\"colab-df-convert\" onclick=\"convertToInteractive('df-b426f81b-ae03-4f69-a5cd-140dff7ae536')\"\n",
              "              title=\"Convert this dataframe to an interactive table.\"\n",
              "              style=\"display:none;\">\n",
              "        \n",
              "  <svg xmlns=\"http://www.w3.org/2000/svg\" height=\"24px\"viewBox=\"0 0 24 24\"\n",
              "       width=\"24px\">\n",
              "    <path d=\"M0 0h24v24H0V0z\" fill=\"none\"/>\n",
              "    <path d=\"M18.56 5.44l.94 2.06.94-2.06 2.06-.94-2.06-.94-.94-2.06-.94 2.06-2.06.94zm-11 1L8.5 8.5l.94-2.06 2.06-.94-2.06-.94L8.5 2.5l-.94 2.06-2.06.94zm10 10l.94 2.06.94-2.06 2.06-.94-2.06-.94-.94-2.06-.94 2.06-2.06.94z\"/><path d=\"M17.41 7.96l-1.37-1.37c-.4-.4-.92-.59-1.43-.59-.52 0-1.04.2-1.43.59L10.3 9.45l-7.72 7.72c-.78.78-.78 2.05 0 2.83L4 21.41c.39.39.9.59 1.41.59.51 0 1.02-.2 1.41-.59l7.78-7.78 2.81-2.81c.8-.78.8-2.07 0-2.86zM5.41 20L4 18.59l7.72-7.72 1.47 1.35L5.41 20z\"/>\n",
              "  </svg>\n",
              "      </button>\n",
              "      \n",
              "  <style>\n",
              "    .colab-df-container {\n",
              "      display:flex;\n",
              "      flex-wrap:wrap;\n",
              "      gap: 12px;\n",
              "    }\n",
              "\n",
              "    .colab-df-convert {\n",
              "      background-color: #E8F0FE;\n",
              "      border: none;\n",
              "      border-radius: 50%;\n",
              "      cursor: pointer;\n",
              "      display: none;\n",
              "      fill: #1967D2;\n",
              "      height: 32px;\n",
              "      padding: 0 0 0 0;\n",
              "      width: 32px;\n",
              "    }\n",
              "\n",
              "    .colab-df-convert:hover {\n",
              "      background-color: #E2EBFA;\n",
              "      box-shadow: 0px 1px 2px rgba(60, 64, 67, 0.3), 0px 1px 3px 1px rgba(60, 64, 67, 0.15);\n",
              "      fill: #174EA6;\n",
              "    }\n",
              "\n",
              "    [theme=dark] .colab-df-convert {\n",
              "      background-color: #3B4455;\n",
              "      fill: #D2E3FC;\n",
              "    }\n",
              "\n",
              "    [theme=dark] .colab-df-convert:hover {\n",
              "      background-color: #434B5C;\n",
              "      box-shadow: 0px 1px 3px 1px rgba(0, 0, 0, 0.15);\n",
              "      filter: drop-shadow(0px 1px 2px rgba(0, 0, 0, 0.3));\n",
              "      fill: #FFFFFF;\n",
              "    }\n",
              "  </style>\n",
              "\n",
              "      <script>\n",
              "        const buttonEl =\n",
              "          document.querySelector('#df-b426f81b-ae03-4f69-a5cd-140dff7ae536 button.colab-df-convert');\n",
              "        buttonEl.style.display =\n",
              "          google.colab.kernel.accessAllowed ? 'block' : 'none';\n",
              "\n",
              "        async function convertToInteractive(key) {\n",
              "          const element = document.querySelector('#df-b426f81b-ae03-4f69-a5cd-140dff7ae536');\n",
              "          const dataTable =\n",
              "            await google.colab.kernel.invokeFunction('convertToInteractive',\n",
              "                                                     [key], {});\n",
              "          if (!dataTable) return;\n",
              "\n",
              "          const docLinkHtml = 'Like what you see? Visit the ' +\n",
              "            '<a target=\"_blank\" href=https://colab.research.google.com/notebooks/data_table.ipynb>data table notebook</a>'\n",
              "            + ' to learn more about interactive tables.';\n",
              "          element.innerHTML = '';\n",
              "          dataTable['output_type'] = 'display_data';\n",
              "          await google.colab.output.renderOutput(dataTable, element);\n",
              "          const docLink = document.createElement('div');\n",
              "          docLink.innerHTML = docLinkHtml;\n",
              "          element.appendChild(docLink);\n",
              "        }\n",
              "      </script>\n",
              "    </div>\n",
              "  </div>\n",
              "  "
            ]
          },
          "metadata": {},
          "execution_count": 84
        }
      ]
    },
    {
      "cell_type": "code",
      "source": [
        "test_data=list()\n",
        "train_dat=forex_data.values.tolist()\n",
        "test=test.values.tolist()\n",
        "\n",
        "for t in test:\n",
        "  ar=ARIMA(train_dat,order=(5,1,1))\n",
        "  model=ar.fit()\n",
        "  forcast=model.forecast()[0].tolist()\n",
        "\n",
        "  test_data.append(forcast)\n",
        "  train_dat.append(t)\n",
        "print(test_data)\n"
      ],
      "metadata": {
        "colab": {
          "base_uri": "https://localhost:8080/"
        },
        "id": "XD1byQ2R4jfS",
        "outputId": "7c74cf21-3100-4209-9ab5-ca6d4d9b7ce0"
      },
      "execution_count": 85,
      "outputs": [
        {
          "output_type": "stream",
          "name": "stdout",
          "text": [
            "[77.65795168799957, 77.60225218080441, 77.58832992102133, 77.42147377460583, 77.64295532155607, 77.78101893760599, 77.67922227660092, 77.69927409422729, 77.8187761524019, 78.10751995193091, 78.13410055656499, 78.00971106327334, 77.93537989135508, 78.00027501636784, 77.97176464797657, 77.92792260275043, 78.08535625925587, 78.17288182199718, 78.14073947549784, 78.22681800503933, 78.40953718482308, 78.93176373366546, 78.89059633968569, 78.93842466213692, 78.97197914976947, 78.98776004030589, 79.28192050420093, 79.09499463747389, 79.18388050411866, 79.310988330444, 79.46305315400926, 79.45018950841238, 79.7389671459628, 79.85550825156622, 79.74966606848432, 79.97446232599765, 79.90738106504492, 79.98159708569999, 79.81685118097647, 79.88093165386942, 79.75378180033012, 79.82821756589263, 79.83303280465341, 79.62798724708011, 79.27997900146882, 79.04341137245649, 78.70826713146683, 79.01970979401639, 79.10269176838112, 79.30591494097554, 79.51352004376258, 79.58725182050149, 79.20120122511162, 79.55096933495652, 79.63802279185566, 79.5519974833556, 79.2049262881737, 79.36361570062518, 79.6957970427799, 79.85176754152958, 79.83594990022961, 79.86081121670873, 79.84107324332649, 79.8888633673284, 79.94510868824118, 79.95735926241811, 79.73447683513062, 79.59667377344489, 79.70850724180747, 79.72262170848037, 79.74411101644908, 79.85282060942303, 79.69908005549125, 79.70533115315973, 79.67935843364423, 79.42835484333858, 79.55548753463164, 79.48467746699001, 79.75897933264052, 79.68670849829016, 79.7040588975615, 79.74977595549483, 80.01046036484259, 80.82899728843347, 81.14986478409345, 81.4926910987014, 81.70002701028588, 81.54550594298829, 81.51608712220835, 81.55972415594523, 81.51566240705534, 81.45619177037592, 81.61292338754136, 82.2020387006439, 82.69499896360307, 82.44702574758062, 82.31199213479968, 82.29028501937766, 82.25366141440769, 82.36062054560642, 82.21411758309146, 82.25935225433975, 82.85593689583573, 82.83580035330482, 82.56459850637286, 82.73996530431764, 82.55913701766566, 82.14022229792745, 82.37964260031882, 82.2864359944928, 82.60874605114174, 82.64353300550506, 82.84524519054172, 82.70415734431069, 82.14736593084133, 81.90479846983625, 81.5419699205025, 81.37938834644221, 80.62292820911298, 80.51236485212475, 80.8981836152821, 81.02718222305292, 81.3344832651205, 81.48440601526745, 81.53010370981211, 81.69284316617167, 81.73592569659905, 81.64751686723089, 81.65421086498743, 81.68204841891612, 81.65458781694902, 81.62999850213389, 81.37023294420125, 81.20579789206663, 81.39067683505162, 81.80319733420467, 82.23242884374883, 82.22117352470363, 82.26878905870801, 82.41801648940331, 82.62935334523277, 82.43074065448707, 82.48909285574815, 82.80316457950329, 82.74885985258561, 82.58799213783965, 82.63984413189483, 82.85888588096194, 82.85910073923358, 82.63608626054113, 82.85862400086415, 82.81262064854376, 82.83509369795553]\n"
          ]
        }
      ]
    },
    {
      "cell_type": "code",
      "source": [
        "fig, ax = plt.subplots(figsize=(5, 2.7), layout='constrained')"
      ],
      "metadata": {
        "id": "Iaj-UYhgRpA1"
      },
      "execution_count": null,
      "outputs": []
    },
    {
      "cell_type": "code",
      "source": [
        "from sklearn.metrics import r2_score\n",
        "plt.plot(test,color='red',label='Actual Data')\n",
        "plt.plot(test_data,color='green', label='Predicted Data')\n",
        "ax.set_xlabel('No. of Days')  # Add an x-label to the axes.\n",
        "ax.set_ylabel('INR Value of 1 USD')  # Add a y-label to the axes.\n",
        "ax.set_title(\"USD/INR : Actual vs Predicted using ARIMA Model\")\n",
        "plt.legend()\n",
        "plt.show()"
      ],
      "metadata": {
        "colab": {
          "base_uri": "https://localhost:8080/",
          "height": 265
        },
        "id": "boEJf-BZ-X4O",
        "outputId": "7569e145-c7a7-45b3-d7d9-682b9091ccbc"
      },
      "execution_count": 87,
      "outputs": [
        {
          "output_type": "display_data",
          "data": {
            "text/plain": [
              "<Figure size 432x288 with 1 Axes>"
            ],
            "image/png": "[encoded data removed]"
          },
          "metadata": {
            "needs_background": "light"
          }
        }
      ]
    },
    {
      "cell_type": "code",
      "source": [
        "print(\"Mean Squared Error :\",mean_squared_error(test,test_data))\n",
        "print(\"Accuracy Score :\" ,r2_score(test,test_data)*100)"
      ],
      "metadata": {
        "colab": {
          "base_uri": "https://localhost:8080/"
        },
        "id": "rX2e6s2qDwiW",
        "outputId": "fe5a1c53-09c0-448f-9767-d02b7fa8c32d"
      },
      "execution_count": 88,
      "outputs": [
        {
          "output_type": "stream",
          "name": "stdout",
          "text": [
            "Mean Squared Error : 0.0764074053399131\n",
            "Accuracy Score : 97.05058394629619\n"
          ]
        }
      ]
    }
  ]
}